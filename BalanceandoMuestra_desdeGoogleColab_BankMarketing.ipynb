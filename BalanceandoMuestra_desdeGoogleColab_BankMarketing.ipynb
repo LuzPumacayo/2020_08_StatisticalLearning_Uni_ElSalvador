{
  "nbformat": 4,
  "nbformat_minor": 0,
  "metadata": {
    "colab": {
      "name": "Caso_Banco_Portuguese.ipynb",
      "provenance": []
    },
    "language_info": {
      "codemirror_mode": "r",
      "file_extension": ".r",
      "mimetype": "text/x-r-source",
      "name": "R",
      "pygments_lexer": "r",
      "version": "3.3.1"
    },
    "kernelspec": {
      "display_name": "R",
      "language": "R",
      "name": "ir"
    }
  },
  "cells": [
    {
      "cell_type": "code",
      "metadata": {
        "id": "JvZUQUvZ7l-R",
        "colab_type": "code",
        "colab": {}
      },
      "source": [
        "# https://drive.google.com/file/d/17Drdl3Rb_mKsRUVCt9WShEOucKx8WhxT/view?usp=sharing\n",
        "system(\"gdown --id 17Drdl3Rb_mKsRUVCt9WShEOucKx8WhxT\")"
      ],
      "execution_count": null,
      "outputs": []
    },
    {
      "cell_type": "code",
      "metadata": {
        "id": "QIVcTP5YY0zy",
        "colab_type": "code",
        "colab": {
          "base_uri": "https://localhost:8080/",
          "height": 33
        },
        "outputId": "88356f85-8b4e-4128-8819-0d59e2e523e7"
      },
      "source": [
        "list.files()"
      ],
      "execution_count": null,
      "outputs": [
        {
          "output_type": "display_data",
          "data": {
            "text/plain": [
              "[1] \"bank-additional-full.csv\" \"sample_data\"             "
            ],
            "text/latex": "\\begin{enumerate*}\n\\item 'bank-additional-full.csv'\n\\item 'sample\\_data'\n\\end{enumerate*}\n",
            "text/markdown": "1. 'bank-additional-full.csv'\n2. 'sample_data'\n\n\n",
            "text/html": [
              "<style>\n",
              ".list-inline {list-style: none; margin:0; padding: 0}\n",
              ".list-inline>li {display: inline-block}\n",
              ".list-inline>li:not(:last-child)::after {content: \"\\00b7\"; padding: 0 .5ex}\n",
              "</style>\n",
              "<ol class=list-inline><li>'bank-additional-full.csv'</li><li>'sample_data'</li></ol>\n"
            ]
          },
          "metadata": {
            "tags": []
          }
        }
      ]
    },
    {
      "cell_type": "code",
      "metadata": {
        "id": "Db6bRzJtY329",
        "colab_type": "code",
        "colab": {
          "base_uri": "https://localhost:8080/",
          "height": 433
        },
        "outputId": "0605ac20-ded9-455d-a170-4ab76f5914f4"
      },
      "source": [
        "library('tidyverse')\n",
        "library('magrittr')\n",
        "\n"
      ],
      "execution_count": null,
      "outputs": [
        {
          "output_type": "stream",
          "text": [
            "── \u001b[1mAttaching packages\u001b[22m ─────────────────────────────────────── tidyverse 1.3.0 ──\n",
            "\n",
            "\u001b[32m✔\u001b[39m \u001b[34mggplot2\u001b[39m 3.3.2     \u001b[32m✔\u001b[39m \u001b[34mpurrr  \u001b[39m 0.3.4\n",
            "\u001b[32m✔\u001b[39m \u001b[34mtibble \u001b[39m 3.0.3     \u001b[32m✔\u001b[39m \u001b[34mdplyr  \u001b[39m 1.0.0\n",
            "\u001b[32m✔\u001b[39m \u001b[34mtidyr  \u001b[39m 1.1.0     \u001b[32m✔\u001b[39m \u001b[34mstringr\u001b[39m 1.4.0\n",
            "\u001b[32m✔\u001b[39m \u001b[34mreadr  \u001b[39m 1.3.1     \u001b[32m✔\u001b[39m \u001b[34mforcats\u001b[39m 0.5.0\n",
            "\n",
            "── \u001b[1mConflicts\u001b[22m ────────────────────────────────────────── tidyverse_conflicts() ──\n",
            "\u001b[31m✖\u001b[39m \u001b[34mdplyr\u001b[39m::\u001b[32mfilter()\u001b[39m masks \u001b[34mstats\u001b[39m::filter()\n",
            "\u001b[31m✖\u001b[39m \u001b[34mdplyr\u001b[39m::\u001b[32mlag()\u001b[39m    masks \u001b[34mstats\u001b[39m::lag()\n",
            "\n",
            "\n",
            "Attaching package: ‘magrittr’\n",
            "\n",
            "\n",
            "The following object is masked from ‘package:purrr’:\n",
            "\n",
            "    set_names\n",
            "\n",
            "\n",
            "The following object is masked from ‘package:tidyr’:\n",
            "\n",
            "    extract\n",
            "\n",
            "\n"
          ],
          "name": "stderr"
        }
      ]
    },
    {
      "cell_type": "code",
      "metadata": {
        "id": "8qsRgGelZCYC",
        "colab_type": "code",
        "colab": {
          "base_uri": "https://localhost:8080/",
          "height": 366
        },
        "outputId": "b7066730-8aad-4ecb-dbd0-94f1b7618ae9"
      },
      "source": [
        "if (!require('caret')) install.packages('caret')\n",
        "library('caret')"
      ],
      "execution_count": null,
      "outputs": [
        {
          "output_type": "stream",
          "text": [
            "Loading required package: caret\n",
            "\n",
            "Warning message in library(package, lib.loc = lib.loc, character.only = TRUE, logical.return = TRUE, :\n",
            "“there is no package called ‘caret’”\n",
            "Installing package into ‘/usr/local/lib/R/site-library’\n",
            "(as ‘lib’ is unspecified)\n",
            "\n",
            "also installing the dependencies ‘numDeriv’, ‘SQUAREM’, ‘lava’, ‘prodlim’, ‘iterators’, ‘data.table’, ‘gower’, ‘ipred’, ‘timeDate’, ‘foreach’, ‘plyr’, ‘ModelMetrics’, ‘reshape2’, ‘recipes’, ‘pROC’\n",
            "\n",
            "\n",
            "Loading required package: lattice\n",
            "\n",
            "\n",
            "Attaching package: ‘caret’\n",
            "\n",
            "\n",
            "The following object is masked from ‘package:purrr’:\n",
            "\n",
            "    lift\n",
            "\n",
            "\n"
          ],
          "name": "stderr"
        }
      ]
    },
    {
      "cell_type": "code",
      "metadata": {
        "id": "3fvYOO0KgNUt",
        "colab_type": "code",
        "colab": {
          "base_uri": "https://localhost:8080/",
          "height": 400
        },
        "outputId": "bd0e94eb-5bf5-4e9b-dd47-8fa7dc1b3b5a"
      },
      "source": [
        "if (!require('gam')) install.packages('gam')\n",
        "library('gam')"
      ],
      "execution_count": null,
      "outputs": [
        {
          "output_type": "stream",
          "text": [
            "Loading required package: gam\n",
            "\n",
            "Warning message in library(package, lib.loc = lib.loc, character.only = TRUE, logical.return = TRUE, :\n",
            "“there is no package called ‘gam’”\n",
            "Installing package into ‘/usr/local/lib/R/site-library’\n",
            "(as ‘lib’ is unspecified)\n",
            "\n",
            "Loading required package: splines\n",
            "\n",
            "Loading required package: foreach\n",
            "\n",
            "\n",
            "Attaching package: ‘foreach’\n",
            "\n",
            "\n",
            "The following objects are masked from ‘package:purrr’:\n",
            "\n",
            "    accumulate, when\n",
            "\n",
            "\n",
            "Loaded gam 1.20\n",
            "\n",
            "\n"
          ],
          "name": "stderr"
        }
      ]
    },
    {
      "cell_type": "code",
      "metadata": {
        "id": "ENHeoPGsgXbn",
        "colab_type": "code",
        "colab": {
          "base_uri": "https://localhost:8080/",
          "height": 133
        },
        "outputId": "501b5e77-b4d1-4438-d2b1-689c42cb73e3"
      },
      "source": [
        "if (!require('e1071')) install.packages('e1071')\n",
        "library('e1071')"
      ],
      "execution_count": null,
      "outputs": [
        {
          "output_type": "stream",
          "text": [
            "Loading required package: e1071\n",
            "\n",
            "Warning message in library(package, lib.loc = lib.loc, character.only = TRUE, logical.return = TRUE, :\n",
            "“there is no package called ‘e1071’”\n",
            "Installing package into ‘/usr/local/lib/R/site-library’\n",
            "(as ‘lib’ is unspecified)\n",
            "\n"
          ],
          "name": "stderr"
        }
      ]
    },
    {
      "cell_type": "code",
      "metadata": {
        "id": "4bHpC8HJs9wV",
        "colab_type": "code",
        "colab": {
          "base_uri": "https://localhost:8080/",
          "height": 316
        },
        "outputId": "b03d4077-ff53-4c45-b429-ac3e38c2ee50"
      },
      "source": [
        "if (!require('earth')) install.packages('earth')\n",
        "library('earth')"
      ],
      "execution_count": null,
      "outputs": [
        {
          "output_type": "stream",
          "text": [
            "Loading required package: earth\n",
            "\n",
            "Warning message in library(package, lib.loc = lib.loc, character.only = TRUE, logical.return = TRUE, :\n",
            "“there is no package called ‘earth’”\n",
            "Installing package into ‘/usr/local/lib/R/site-library’\n",
            "(as ‘lib’ is unspecified)\n",
            "\n",
            "also installing the dependencies ‘plotrix’, ‘Formula’, ‘plotmo’, ‘TeachingDemos’\n",
            "\n",
            "\n",
            "Loading required package: Formula\n",
            "\n",
            "Loading required package: plotmo\n",
            "\n",
            "Loading required package: plotrix\n",
            "\n",
            "Loading required package: TeachingDemos\n",
            "\n"
          ],
          "name": "stderr"
        }
      ]
    },
    {
      "cell_type": "code",
      "metadata": {
        "id": "kwhbisjYY7DP",
        "colab_type": "code",
        "colab": {
          "base_uri": "https://localhost:8080/",
          "height": 300
        },
        "outputId": "b15084f8-8940-4a82-a3a9-2b47b14924a7"
      },
      "source": [
        "# Leer el archivo csv\n",
        "data_banco <- read_delim(\"bank-additional-full.csv\", delim= \";\")"
      ],
      "execution_count": null,
      "outputs": [
        {
          "output_type": "stream",
          "text": [
            "Parsed with column specification:\n",
            "cols(\n",
            "  .default = col_character(),\n",
            "  age = \u001b[32mcol_double()\u001b[39m,\n",
            "  duration = \u001b[32mcol_double()\u001b[39m,\n",
            "  campaign = \u001b[32mcol_double()\u001b[39m,\n",
            "  pdays = \u001b[32mcol_double()\u001b[39m,\n",
            "  previous = \u001b[32mcol_double()\u001b[39m,\n",
            "  emp.var.rate = \u001b[32mcol_double()\u001b[39m,\n",
            "  cons.price.idx = \u001b[32mcol_double()\u001b[39m,\n",
            "  cons.conf.idx = \u001b[32mcol_double()\u001b[39m,\n",
            "  euribor3m = \u001b[32mcol_double()\u001b[39m,\n",
            "  nr.employed = \u001b[32mcol_double()\u001b[39m\n",
            ")\n",
            "\n",
            "See spec(...) for full column specifications.\n",
            "\n"
          ],
          "name": "stderr"
        }
      ]
    },
    {
      "cell_type": "code",
      "metadata": {
        "id": "sauDLjJmZIvE",
        "colab_type": "code",
        "colab": {
          "base_uri": "https://localhost:8080/",
          "height": 400
        },
        "outputId": "24c25332-9fe1-4a5a-f8c9-6806fb1b71ec"
      },
      "source": [
        "# str(data_publicidad) # Opcion de R-base\n",
        "glimpse(data_banco)"
      ],
      "execution_count": null,
      "outputs": [
        {
          "output_type": "stream",
          "text": [
            "Rows: 41,188\n",
            "Columns: 21\n",
            "$ age            \u001b[3m\u001b[90m<dbl>\u001b[39m\u001b[23m 56, 57, 37, 40, 56, 45, 59, 41, 24, 25, 41, 25, 29, 57…\n",
            "$ job            \u001b[3m\u001b[90m<chr>\u001b[39m\u001b[23m \"housemaid\", \"services\", \"services\", \"admin.\", \"servic…\n",
            "$ marital        \u001b[3m\u001b[90m<chr>\u001b[39m\u001b[23m \"married\", \"married\", \"married\", \"married\", \"married\",…\n",
            "$ education      \u001b[3m\u001b[90m<chr>\u001b[39m\u001b[23m \"basic.4y\", \"high.school\", \"high.school\", \"basic.6y\", …\n",
            "$ default        \u001b[3m\u001b[90m<chr>\u001b[39m\u001b[23m \"no\", \"unknown\", \"no\", \"no\", \"no\", \"unknown\", \"no\", \"u…\n",
            "$ housing        \u001b[3m\u001b[90m<chr>\u001b[39m\u001b[23m \"no\", \"no\", \"yes\", \"no\", \"no\", \"no\", \"no\", \"no\", \"yes\"…\n",
            "$ loan           \u001b[3m\u001b[90m<chr>\u001b[39m\u001b[23m \"no\", \"no\", \"no\", \"no\", \"yes\", \"no\", \"no\", \"no\", \"no\",…\n",
            "$ contact        \u001b[3m\u001b[90m<chr>\u001b[39m\u001b[23m \"telephone\", \"telephone\", \"telephone\", \"telephone\", \"t…\n",
            "$ month          \u001b[3m\u001b[90m<chr>\u001b[39m\u001b[23m \"may\", \"may\", \"may\", \"may\", \"may\", \"may\", \"may\", \"may\"…\n",
            "$ day_of_week    \u001b[3m\u001b[90m<chr>\u001b[39m\u001b[23m \"mon\", \"mon\", \"mon\", \"mon\", \"mon\", \"mon\", \"mon\", \"mon\"…\n",
            "$ duration       \u001b[3m\u001b[90m<dbl>\u001b[39m\u001b[23m 261, 149, 226, 151, 307, 198, 139, 217, 380, 50, 55, 2…\n",
            "$ campaign       \u001b[3m\u001b[90m<dbl>\u001b[39m\u001b[23m 1, 1, 1, 1, 1, 1, 1, 1, 1, 1, 1, 1, 1, 1, 1, 1, 1, 1, …\n",
            "$ pdays          \u001b[3m\u001b[90m<dbl>\u001b[39m\u001b[23m 999, 999, 999, 999, 999, 999, 999, 999, 999, 999, 999,…\n",
            "$ previous       \u001b[3m\u001b[90m<dbl>\u001b[39m\u001b[23m 0, 0, 0, 0, 0, 0, 0, 0, 0, 0, 0, 0, 0, 0, 0, 0, 0, 0, …\n",
            "$ poutcome       \u001b[3m\u001b[90m<chr>\u001b[39m\u001b[23m \"nonexistent\", \"nonexistent\", \"nonexistent\", \"nonexist…\n",
            "$ emp.var.rate   \u001b[3m\u001b[90m<dbl>\u001b[39m\u001b[23m 1.1, 1.1, 1.1, 1.1, 1.1, 1.1, 1.1, 1.1, 1.1, 1.1, 1.1,…\n",
            "$ cons.price.idx \u001b[3m\u001b[90m<dbl>\u001b[39m\u001b[23m 93.994, 93.994, 93.994, 93.994, 93.994, 93.994, 93.994…\n",
            "$ cons.conf.idx  \u001b[3m\u001b[90m<dbl>\u001b[39m\u001b[23m -36.4, -36.4, -36.4, -36.4, -36.4, -36.4, -36.4, -36.4…\n",
            "$ euribor3m      \u001b[3m\u001b[90m<dbl>\u001b[39m\u001b[23m 4.857, 4.857, 4.857, 4.857, 4.857, 4.857, 4.857, 4.857…\n",
            "$ nr.employed    \u001b[3m\u001b[90m<dbl>\u001b[39m\u001b[23m 5191, 5191, 5191, 5191, 5191, 5191, 5191, 5191, 5191, …\n",
            "$ y              \u001b[3m\u001b[90m<chr>\u001b[39m\u001b[23m \"no\", \"no\", \"no\", \"no\", \"no\", \"no\", \"no\", \"no\", \"no\", …\n"
          ],
          "name": "stdout"
        }
      ]
    },
    {
      "cell_type": "code",
      "metadata": {
        "id": "8wMgX8FBZK6I",
        "colab_type": "code",
        "colab": {
          "base_uri": "https://localhost:8080/",
          "height": 33
        },
        "outputId": "33460f47-254e-4352-a0da-174768dda36f"
      },
      "source": [
        "# %<>% : Pipe que permite calcular todo y guardarlo en la variable de la izquierda.\n",
        "# Convertir a factor\n",
        "data_banco %<>% \n",
        "  mutate( y = factor(y, \n",
        "                     levels= c(\"yes\",\"no\"), \n",
        "                     labels= c(\"si\", \"no\")) ) \n",
        "# Verificar\n",
        "# str : ver la estructura de la variable\n",
        "data_banco %$% str(y)\n",
        "\n",
        "# Convertir a factor\n",
        "data_banco %<>% \n",
        "  mutate( education = factor( education, \n",
        "                     levels= c(\"illiterate\", \"basic.4y\", \"basic.6y\", \n",
        "                               \"basic.9y\", \"high.school\",  \"professional.course\",\n",
        "                               \"university.degree\", \"unknown\" ), \n",
        "                     labels= c(\"No_Educ\", \"4A_Bas\", \"6A_Bas\",\n",
        "                               \"9A_Bas\", \"Bachill\", \"Tecnico\",\n",
        "                               \"Univer\", \"Descon\")\n",
        "                     )  ) \n",
        "\n",
        "# Convertir a factor\n",
        "data_banco %<>% \n",
        "  mutate( month = factor( month, \n",
        "                     levels= c(\"mar\", \"apr\", \"may\", \"jun\", \"jul\", \n",
        "                               \"aug\", \"sep\", \"oct\", \"nov\", \"dec\" ), \n",
        "                     labels= c(\"Mar\", \"Abr\", \"May\", \"Jun\", \"Jul\", \n",
        "                               \"Ago\", \"Sep\", \"Oct\", \"Nov\", \"Dec\" )),\n",
        "          day_of_week = factor( day_of_week, \n",
        "                     levels= c(\"mon\", \"tue\", \"wed\", \"thu\", \"fri\" ), \n",
        "                     labels= c(\"Lun\", \"Mar\", \"Mie\", \"Jue\", \"Vie\" )),\n",
        "          ) \n",
        "\n",
        "data_banco <- data_banco %>% \n",
        "  mutate( job= ifelse(job=='blue-collar', 'blue_collar', \n",
        "                  ifelse(job=='admin.', 'admin', \n",
        "                 ifelse(job=='self-employed', 'self_employed', \n",
        "                        ifelse(job %in% c('housemaid', 'unemployed', 'student', 'unknown'), 'other', job))))\n",
        "  )\n",
        "\n",
        "\n",
        "data_banco %<>% \n",
        "  mutate(pdays_binaria = ifelse(pdays==999, \"No\", \"Si\"))\n",
        "\n",
        "data_banco <- rename_with(data_banco, ~ tolower(gsub(\".\", \"_\", .x, fixed = TRUE)))\n"
      ],
      "execution_count": null,
      "outputs": [
        {
          "output_type": "stream",
          "text": [
            " Factor w/ 2 levels \"si\",\"no\": 2 2 2 2 2 2 2 2 2 2 ...\n"
          ],
          "name": "stdout"
        }
      ]
    },
    {
      "cell_type": "code",
      "metadata": {
        "id": "xrzqR2hGcbYz",
        "colab_type": "code",
        "colab": {}
      },
      "source": [
        "\n",
        "\n",
        "## Crear train - test\n",
        "## createDataPartition funcion de caret, genera índices para muestra aleatoria\n",
        "set.seed(123)\n",
        "partition <- createDataPartition(data_banco$y, p= 0.80, \n",
        "                                 list = FALSE, times= 1)\n",
        "## train y test\n",
        "df_train_ORIG <- data_banco %>% slice(partition)\n",
        "df_test <- data_banco %>% slice(-partition)\n",
        "\n"
      ],
      "execution_count": null,
      "outputs": []
    },
    {
      "cell_type": "code",
      "metadata": {
        "id": "-nwfaaYHeA12",
        "colab_type": "code",
        "colab": {
          "base_uri": "https://localhost:8080/",
          "height": 33
        },
        "outputId": "0b9ffb12-cf76-4ad5-9c28-2ec02f18399e"
      },
      "source": [
        "dim(df_train_ORIG)"
      ],
      "execution_count": null,
      "outputs": [
        {
          "output_type": "display_data",
          "data": {
            "text/plain": [
              "[1] 32951    22"
            ],
            "text/latex": "\\begin{enumerate*}\n\\item 32951\n\\item 22\n\\end{enumerate*}\n",
            "text/markdown": "1. 32951\n2. 22\n\n\n",
            "text/html": [
              "<style>\n",
              ".list-inline {list-style: none; margin:0; padding: 0}\n",
              ".list-inline>li {display: inline-block}\n",
              ".list-inline>li:not(:last-child)::after {content: \"\\00b7\"; padding: 0 .5ex}\n",
              "</style>\n",
              "<ol class=list-inline><li>32951</li><li>22</li></ol>\n"
            ]
          },
          "metadata": {
            "tags": []
          }
        }
      ]
    },
    {
      "cell_type": "code",
      "metadata": {
        "id": "H7gQBii_cVdz",
        "colab_type": "code",
        "colab": {
          "base_uri": "https://localhost:8080/",
          "height": 33
        },
        "outputId": "65dce09a-9f8b-4275-90ed-ed39a91573e7"
      },
      "source": [
        "df_train <- upSample( \n",
        "  x = df_train_ORIG %>% select(-y), \n",
        "  y = df_train_ORIG$y,\n",
        "  yname= \"y\")\n",
        "  \n",
        "dim(df_train)"
      ],
      "execution_count": null,
      "outputs": [
        {
          "output_type": "display_data",
          "data": {
            "text/plain": [
              "[1] 58478    22"
            ],
            "text/latex": "\\begin{enumerate*}\n\\item 58478\n\\item 22\n\\end{enumerate*}\n",
            "text/markdown": "1. 58478\n2. 22\n\n\n",
            "text/html": [
              "<style>\n",
              ".list-inline {list-style: none; margin:0; padding: 0}\n",
              ".list-inline>li {display: inline-block}\n",
              ".list-inline>li:not(:last-child)::after {content: \"\\00b7\"; padding: 0 .5ex}\n",
              "</style>\n",
              "<ol class=list-inline><li>58478</li><li>22</li></ol>\n"
            ]
          },
          "metadata": {
            "tags": []
          }
        }
      ]
    },
    {
      "cell_type": "code",
      "metadata": {
        "id": "rUIhL3zAebSd",
        "colab_type": "code",
        "colab": {}
      },
      "source": [
        "preProc <- c(\"knnImpute\", \"center\", \"scale\")\n",
        "\n",
        "\n",
        "# Hacer un modelo lineal usando cross-validacion\n",
        "# de 5-fold\n",
        "# Crear trainControl\n",
        "myControl <- trainControl(\n",
        "  summaryFunction = twoClassSummary,  \n",
        "  classProbs = TRUE, \n",
        "  verboseIter = TRUE,\n",
        "  savePredictions = TRUE, \n",
        "  method = \"cv\", number = 5\n",
        ")\n",
        "\n",
        "\n",
        "\n",
        "df_train_mod <- df_train %>% select(-c(duration, pdays)) \n"
      ],
      "execution_count": null,
      "outputs": []
    },
    {
      "cell_type": "code",
      "metadata": {
        "id": "4m1FjD_TowmQ",
        "colab_type": "code",
        "colab": {}
      },
      "source": [
        "## GLM"
      ],
      "execution_count": null,
      "outputs": []
    },
    {
      "cell_type": "code",
      "metadata": {
        "id": "59Fj5GRcegap",
        "colab_type": "code",
        "colab": {
          "base_uri": "https://localhost:8080/",
          "height": 1000
        },
        "outputId": "05eb4475-065a-479c-a2d8-7d0d9eb21a4a"
      },
      "source": [
        "\n",
        "set.seed(123)\n",
        "model_glm <- train(\n",
        "  y ~ ., \n",
        "  df_train_mod,\n",
        "  preProcess = preProc,\n",
        "  method = \"glm\",\n",
        "  family= \"binomial\",\n",
        "  trControl = myControl\n",
        ")\n",
        "\n",
        "summary(model_glm$finalModel)\n",
        "model_glm\n"
      ],
      "execution_count": null,
      "outputs": [
        {
          "output_type": "stream",
          "text": [
            "Warning message in train.default(x, y, weights = w, ...):\n",
            "“The metric \"Accuracy\" was not in the result set. ROC will be used instead.”\n"
          ],
          "name": "stderr"
        },
        {
          "output_type": "stream",
          "text": [
            "+ Fold1: parameter=none \n"
          ],
          "name": "stdout"
        },
        {
          "output_type": "stream",
          "text": [
            "Warning message in predict.lm(object, newdata, se.fit, scale = 1, type = if (type == :\n",
            "“prediction from a rank-deficient fit may be misleading”\n",
            "Warning message in predict.lm(object, newdata, se.fit, scale = 1, type = if (type == :\n",
            "“prediction from a rank-deficient fit may be misleading”\n"
          ],
          "name": "stderr"
        },
        {
          "output_type": "stream",
          "text": [
            "- Fold1: parameter=none \n",
            "+ Fold2: parameter=none \n"
          ],
          "name": "stdout"
        },
        {
          "output_type": "stream",
          "text": [
            "Warning message in predict.lm(object, newdata, se.fit, scale = 1, type = if (type == :\n",
            "“prediction from a rank-deficient fit may be misleading”\n",
            "Warning message in predict.lm(object, newdata, se.fit, scale = 1, type = if (type == :\n",
            "“prediction from a rank-deficient fit may be misleading”\n"
          ],
          "name": "stderr"
        },
        {
          "output_type": "stream",
          "text": [
            "- Fold2: parameter=none \n",
            "+ Fold3: parameter=none \n"
          ],
          "name": "stdout"
        },
        {
          "output_type": "stream",
          "text": [
            "Warning message in predict.lm(object, newdata, se.fit, scale = 1, type = if (type == :\n",
            "“prediction from a rank-deficient fit may be misleading”\n",
            "Warning message in predict.lm(object, newdata, se.fit, scale = 1, type = if (type == :\n",
            "“prediction from a rank-deficient fit may be misleading”\n"
          ],
          "name": "stderr"
        },
        {
          "output_type": "stream",
          "text": [
            "- Fold3: parameter=none \n",
            "+ Fold4: parameter=none \n"
          ],
          "name": "stdout"
        },
        {
          "output_type": "stream",
          "text": [
            "Warning message in predict.lm(object, newdata, se.fit, scale = 1, type = if (type == :\n",
            "“prediction from a rank-deficient fit may be misleading”\n",
            "Warning message in predict.lm(object, newdata, se.fit, scale = 1, type = if (type == :\n",
            "“prediction from a rank-deficient fit may be misleading”\n"
          ],
          "name": "stderr"
        },
        {
          "output_type": "stream",
          "text": [
            "- Fold4: parameter=none \n",
            "+ Fold5: parameter=none \n"
          ],
          "name": "stdout"
        },
        {
          "output_type": "stream",
          "text": [
            "Warning message in predict.lm(object, newdata, se.fit, scale = 1, type = if (type == :\n",
            "“prediction from a rank-deficient fit may be misleading”\n",
            "Warning message in predict.lm(object, newdata, se.fit, scale = 1, type = if (type == :\n",
            "“prediction from a rank-deficient fit may be misleading”\n"
          ],
          "name": "stderr"
        },
        {
          "output_type": "stream",
          "text": [
            "- Fold5: parameter=none \n",
            "Aggregating results\n",
            "Fitting final model on full training set\n"
          ],
          "name": "stdout"
        },
        {
          "output_type": "display_data",
          "data": {
            "text/plain": [
              "\n",
              "Call:\n",
              "NULL\n",
              "\n",
              "Deviance Residuals: \n",
              "    Min       1Q   Median       3Q      Max  \n",
              "-2.1787  -0.8097  -0.0747   0.8578   2.8687  \n",
              "\n",
              "Coefficients: (1 not defined because of singularities)\n",
              "                     Estimate Std. Error z value Pr(>|z|)    \n",
              "(Intercept)         -0.145612   0.011090 -13.130  < 2e-16 ***\n",
              "age                  0.018303   0.014255   1.284 0.199142    \n",
              "jobblue_collar       0.044081   0.014358   3.070 0.002139 ** \n",
              "jobentrepreneur     -0.010042   0.009902  -1.014 0.310535    \n",
              "jobmanagement       -0.004030   0.010752  -0.375 0.707782    \n",
              "jobother            -0.002395   0.012160  -0.197 0.843835    \n",
              "jobretired          -0.071488   0.013919  -5.136 2.81e-07 ***\n",
              "jobself_employed     0.015123   0.010169   1.487 0.136944    \n",
              "jobservices          0.015411   0.011211   1.375 0.169236    \n",
              "jobtechnician        0.039128   0.012703   3.080 0.002068 ** \n",
              "maritalmarried       0.016157   0.016018   1.009 0.313130    \n",
              "maritalsingle       -0.034942   0.017066  -2.048 0.040609 *  \n",
              "maritalunknown      -0.010333   0.009834  -1.051 0.293380    \n",
              "education4A_Bas      0.326205   0.117239   2.782 0.005396 ** \n",
              "education6A_Bas      0.197471   0.085375   2.313 0.020723 *  \n",
              "education9A_Bas      0.358476   0.131295   2.730 0.006327 ** \n",
              "educationBachill     0.419845   0.165124   2.543 0.011003 *  \n",
              "educationTecnico     0.309304   0.132576   2.333 0.019646 *  \n",
              "educationUniver      0.441572   0.184241   2.397 0.016543 *  \n",
              "educationDescon      0.201159   0.084713   2.375 0.017567 *  \n",
              "defaultunknown       0.034579   0.010282   3.363 0.000771 ***\n",
              "defaultyes           0.050914   0.299647   0.170 0.865080    \n",
              "housingunknown       0.036195   0.010261   3.528 0.000419 ***\n",
              "housingyes           0.009928   0.010004   0.992 0.320988    \n",
              "loanunknown                NA         NA      NA       NA    \n",
              "loanyes              0.010341   0.009824   1.053 0.292510    \n",
              "contacttelephone     0.266758   0.017004  15.688  < 2e-16 ***\n",
              "monthAbr             0.408517   0.025859  15.798  < 2e-16 ***\n",
              "monthMay             0.832012   0.036345  22.892  < 2e-16 ***\n",
              "monthJun             0.653669   0.042033  15.551  < 2e-16 ***\n",
              "monthJul             0.451354   0.034331  13.147  < 2e-16 ***\n",
              "monthAgo             0.280884   0.032488   8.646  < 2e-16 ***\n",
              "monthSep             0.224018   0.018625  12.028  < 2e-16 ***\n",
              "monthOct             0.245455   0.020366  12.052  < 2e-16 ***\n",
              "monthNov             0.547343   0.026632  20.552  < 2e-16 ***\n",
              "monthDec             0.088404   0.016389   5.394 6.88e-08 ***\n",
              "day_of_weekMar      -0.056614   0.012598  -4.494 7.00e-06 ***\n",
              "day_of_weekMie      -0.126918   0.012450 -10.194  < 2e-16 ***\n",
              "day_of_weekJue      -0.068659   0.012616  -5.442 5.26e-08 ***\n",
              "day_of_weekVie      -0.044983   0.012347  -3.643 0.000269 ***\n",
              "campaign             0.095487   0.010719   8.909  < 2e-16 ***\n",
              "previous             0.049917   0.031645   1.577 0.114702    \n",
              "poutcomenonexistent -0.170279   0.024680  -6.899 5.22e-12 ***\n",
              "poutcomesuccess     -0.242412   0.050890  -4.763 1.90e-06 ***\n",
              "emp_var_rate         2.440716   0.135252  18.046  < 2e-16 ***\n",
              "cons_price_idx      -1.147706   0.084522 -13.579  < 2e-16 ***\n",
              "cons_conf_idx       -0.101389   0.025607  -3.959 7.51e-05 ***\n",
              "euribor3m           -0.536919   0.132032  -4.067 4.77e-05 ***\n",
              "nr_employed         -0.323574   0.139263  -2.323 0.020153 *  \n",
              "pdays_binariaSi     -0.360748   0.052386  -6.886 5.72e-12 ***\n",
              "---\n",
              "Signif. codes:  0 ‘***’ 0.001 ‘**’ 0.01 ‘*’ 0.05 ‘.’ 0.1 ‘ ’ 1\n",
              "\n",
              "(Dispersion parameter for binomial family taken to be 1)\n",
              "\n",
              "    Null deviance: 81068  on 58477  degrees of freedom\n",
              "Residual deviance: 62358  on 58429  degrees of freedom\n",
              "AIC: 62456\n",
              "\n",
              "Number of Fisher Scoring iterations: 8\n"
            ]
          },
          "metadata": {
            "tags": []
          }
        },
        {
          "output_type": "display_data",
          "data": {
            "text/plain": [
              "Generalized Linear Model \n",
              "\n",
              "58478 samples\n",
              "   19 predictor\n",
              "    2 classes: 'si', 'no' \n",
              "\n",
              "Pre-processing: nearest neighbor imputation (49), centered (49), scaled (49) \n",
              "Resampling: Cross-Validated (5 fold) \n",
              "Summary of sample sizes: 46782, 46783, 46782, 46783, 46782 \n",
              "Resampling results:\n",
              "\n",
              "  ROC        Sens       Spec     \n",
              "  0.7964585  0.6328531  0.8510552\n"
            ]
          },
          "metadata": {
            "tags": []
          }
        }
      ]
    },
    {
      "cell_type": "code",
      "metadata": {
        "id": "jkExTpRvehRs",
        "colab_type": "code",
        "colab": {
          "base_uri": "https://localhost:8080/",
          "height": 500
        },
        "outputId": "4e26144c-d609-4cee-e4ae-cea1107cbb22"
      },
      "source": [
        "predictions <- predict(model_glm, newdata= df_train_mod)\n",
        "confusionMatrix(predictions, df_train_mod$y)\n",
        "\n"
      ],
      "execution_count": null,
      "outputs": [
        {
          "output_type": "stream",
          "text": [
            "Warning message in predict.lm(object, newdata, se.fit, scale = 1, type = if (type == :\n",
            "“prediction from a rank-deficient fit may be misleading”\n"
          ],
          "name": "stderr"
        },
        {
          "output_type": "display_data",
          "data": {
            "text/plain": [
              "Confusion Matrix and Statistics\n",
              "\n",
              "          Reference\n",
              "Prediction    si    no\n",
              "        si 18492  4355\n",
              "        no 10747 24884\n",
              "                                          \n",
              "               Accuracy : 0.7417          \n",
              "                 95% CI : (0.7382, 0.7453)\n",
              "    No Information Rate : 0.5             \n",
              "    P-Value [Acc > NIR] : < 2.2e-16       \n",
              "                                          \n",
              "                  Kappa : 0.4835          \n",
              "                                          \n",
              " Mcnemar's Test P-Value : < 2.2e-16       \n",
              "                                          \n",
              "            Sensitivity : 0.6324          \n",
              "            Specificity : 0.8511          \n",
              "         Pos Pred Value : 0.8094          \n",
              "         Neg Pred Value : 0.6984          \n",
              "             Prevalence : 0.5000          \n",
              "         Detection Rate : 0.3162          \n",
              "   Detection Prevalence : 0.3907          \n",
              "      Balanced Accuracy : 0.7417          \n",
              "                                          \n",
              "       'Positive' Class : si              \n",
              "                                          "
            ]
          },
          "metadata": {
            "tags": []
          }
        }
      ]
    },
    {
      "cell_type": "code",
      "metadata": {
        "id": "zRSxP98oejMX",
        "colab_type": "code",
        "colab": {
          "base_uri": "https://localhost:8080/",
          "height": 500
        },
        "outputId": "83ccfc14-c6c0-4cf4-8000-94ff16de384a"
      },
      "source": [
        "predictions <- predict(model_glm, newdata= df_test)\n",
        "confusionMatrix(predictions, df_test$y)"
      ],
      "execution_count": null,
      "outputs": [
        {
          "output_type": "stream",
          "text": [
            "Warning message in predict.lm(object, newdata, se.fit, scale = 1, type = if (type == :\n",
            "“prediction from a rank-deficient fit may be misleading”\n"
          ],
          "name": "stderr"
        },
        {
          "output_type": "display_data",
          "data": {
            "text/plain": [
              "Confusion Matrix and Statistics\n",
              "\n",
              "          Reference\n",
              "Prediction   si   no\n",
              "        si  595 1144\n",
              "        no  333 6165\n",
              "                                          \n",
              "               Accuracy : 0.8207          \n",
              "                 95% CI : (0.8122, 0.8289)\n",
              "    No Information Rate : 0.8873          \n",
              "    P-Value [Acc > NIR] : 1               \n",
              "                                          \n",
              "                  Kappa : 0.3508          \n",
              "                                          \n",
              " Mcnemar's Test P-Value : <2e-16          \n",
              "                                          \n",
              "            Sensitivity : 0.64116         \n",
              "            Specificity : 0.84348         \n",
              "         Pos Pred Value : 0.34215         \n",
              "         Neg Pred Value : 0.94875         \n",
              "             Prevalence : 0.11266         \n",
              "         Detection Rate : 0.07224         \n",
              "   Detection Prevalence : 0.21112         \n",
              "      Balanced Accuracy : 0.74232         \n",
              "                                          \n",
              "       'Positive' Class : si              \n",
              "                                          "
            ]
          },
          "metadata": {
            "tags": []
          }
        }
      ]
    },
    {
      "cell_type": "code",
      "metadata": {
        "id": "e7yYEKGzort8",
        "colab_type": "code",
        "colab": {
          "base_uri": "https://localhost:8080/",
          "height": 433
        },
        "outputId": "791c61ca-2f0e-4177-c922-54ee94bd5c91"
      },
      "source": [
        "varImp(model_glm)\n"
      ],
      "execution_count": null,
      "outputs": [
        {
          "output_type": "display_data",
          "data": {
            "text/plain": [
              "glm variable importance\n",
              "\n",
              "  only 20 most important variables shown (out of 48)\n",
              "\n",
              "                    Overall\n",
              "monthMay             100.00\n",
              "monthNov              89.70\n",
              "emp_var_rate          78.67\n",
              "monthAbr              68.78\n",
              "contacttelephone      68.30\n",
              "monthJun              67.69\n",
              "cons_price_idx        59.01\n",
              "monthJul              57.11\n",
              "monthOct              52.29\n",
              "monthSep              52.19\n",
              "day_of_weekMie        44.12\n",
              "campaign              38.46\n",
              "monthAgo              37.30\n",
              "poutcomenonexistent   29.62\n",
              "pdays_binariaSi       29.56\n",
              "day_of_weekJue        23.20\n",
              "monthDec              22.99\n",
              "jobretired            21.86\n",
              "poutcomesuccess       20.22\n",
              "day_of_weekMar        19.03"
            ]
          },
          "metadata": {
            "tags": []
          }
        }
      ]
    },
    {
      "cell_type": "code",
      "metadata": {
        "id": "KBeT67gR8NrP",
        "colab_type": "code",
        "colab": {}
      },
      "source": [
        ""
      ],
      "execution_count": null,
      "outputs": []
    },
    {
      "cell_type": "markdown",
      "metadata": {
        "id": "So1LXMZTotWY",
        "colab_type": "text"
      },
      "source": [
        "## GAM"
      ]
    },
    {
      "cell_type": "code",
      "metadata": {
        "id": "YxK-kG1M7Km6",
        "colab_type": "code",
        "colab": {}
      },
      "source": [
        ""
      ],
      "execution_count": null,
      "outputs": []
    },
    {
      "cell_type": "code",
      "metadata": {
        "id": "iQS4WFSkg4KY",
        "colab_type": "code",
        "colab": {
          "base_uri": "https://localhost:8080/",
          "height": 1000
        },
        "outputId": "c49dac44-d15a-4a1d-d140-a7ef655e0d0a"
      },
      "source": [
        "set.seed(123)\n",
        "\n",
        "model_gam <- train(\n",
        "  y ~ ., \n",
        "  df_train_mod,\n",
        "  preProcess = c('center', 'scale'),\n",
        "  method = \"gamSpline\",\n",
        "  family= \"binomial\",\n",
        "  trControl = myControl,\n",
        "  tuneGrid = expand.grid(.df= 1:5)\n",
        ")\n",
        "\n",
        "model_gam"
      ],
      "execution_count": null,
      "outputs": [
        {
          "output_type": "stream",
          "text": [
            "Warning message in train.default(x, y, weights = w, ...):\n",
            "“The metric \"Accuracy\" was not in the result set. ROC will be used instead.”\n"
          ],
          "name": "stderr"
        },
        {
          "output_type": "stream",
          "text": [
            "+ Fold1: df=1 \n",
            "- Fold1: df=1 \n",
            "+ Fold1: df=2 \n",
            "- Fold1: df=2 \n",
            "+ Fold1: df=3 \n",
            "- Fold1: df=3 \n",
            "+ Fold1: df=4 \n",
            "- Fold1: df=4 \n",
            "+ Fold1: df=5 \n",
            "- Fold1: df=5 \n",
            "+ Fold2: df=1 \n",
            "- Fold2: df=1 \n",
            "+ Fold2: df=2 \n",
            "- Fold2: df=2 \n",
            "+ Fold2: df=3 \n",
            "- Fold2: df=3 \n",
            "+ Fold2: df=4 \n",
            "- Fold2: df=4 \n",
            "+ Fold2: df=5 \n",
            "- Fold2: df=5 \n",
            "+ Fold3: df=1 \n",
            "- Fold3: df=1 \n",
            "+ Fold3: df=2 \n",
            "- Fold3: df=2 \n",
            "+ Fold3: df=3 \n",
            "- Fold3: df=3 \n",
            "+ Fold3: df=4 \n",
            "- Fold3: df=4 \n",
            "+ Fold3: df=5 \n",
            "- Fold3: df=5 \n",
            "+ Fold4: df=1 \n",
            "- Fold4: df=1 \n",
            "+ Fold4: df=2 \n",
            "- Fold4: df=2 \n",
            "+ Fold4: df=3 \n",
            "- Fold4: df=3 \n",
            "+ Fold4: df=4 \n",
            "- Fold4: df=4 \n",
            "+ Fold4: df=5 \n",
            "- Fold4: df=5 \n",
            "+ Fold5: df=1 \n",
            "- Fold5: df=1 \n",
            "+ Fold5: df=2 \n",
            "- Fold5: df=2 \n",
            "+ Fold5: df=3 \n",
            "- Fold5: df=3 \n",
            "+ Fold5: df=4 \n",
            "- Fold5: df=4 \n",
            "+ Fold5: df=5 \n",
            "- Fold5: df=5 \n",
            "Aggregating results\n",
            "Selecting tuning parameters\n",
            "Fitting df = 5 on full training set\n"
          ],
          "name": "stdout"
        },
        {
          "output_type": "display_data",
          "data": {
            "text/plain": [
              "Generalized Additive Model using Splines \n",
              "\n",
              "58478 samples\n",
              "   19 predictor\n",
              "    2 classes: 'si', 'no' \n",
              "\n",
              "Pre-processing: centered (49), scaled (49) \n",
              "Resampling: Cross-Validated (5 fold) \n",
              "Summary of sample sizes: 46782, 46783, 46782, 46783, 46782 \n",
              "Resampling results across tuning parameters:\n",
              "\n",
              "  df  ROC        Sens       Spec     \n",
              "  1   0.7956068  0.6402746  0.8430179\n",
              "  2   0.7969753  0.6380858  0.8454804\n",
              "  3   0.7983491  0.6378122  0.8473273\n",
              "  4   0.7991818  0.6356576  0.8491057\n",
              "  5   0.7996820  0.6359996  0.8501317\n",
              "\n",
              "ROC was used to select the optimal model using the largest value.\n",
              "The final value used for the model was df = 5."
            ]
          },
          "metadata": {
            "tags": []
          }
        }
      ]
    },
    {
      "cell_type": "code",
      "metadata": {
        "id": "JFZx6n_Ho2In",
        "colab_type": "code",
        "colab": {
          "base_uri": "https://localhost:8080/",
          "height": 466
        },
        "outputId": "5279eec1-ddb8-4eec-f0c5-642b285e12f3"
      },
      "source": [
        "predictions <- predict(model_gam, newdata= df_train_mod)\n",
        "confusionMatrix(predictions, df_train_mod$y)"
      ],
      "execution_count": null,
      "outputs": [
        {
          "output_type": "display_data",
          "data": {
            "text/plain": [
              "Confusion Matrix and Statistics\n",
              "\n",
              "          Reference\n",
              "Prediction    si    no\n",
              "        si 18579  4361\n",
              "        no 10660 24878\n",
              "                                          \n",
              "               Accuracy : 0.7431          \n",
              "                 95% CI : (0.7396, 0.7467)\n",
              "    No Information Rate : 0.5             \n",
              "    P-Value [Acc > NIR] : < 2.2e-16       \n",
              "                                          \n",
              "                  Kappa : 0.4863          \n",
              "                                          \n",
              " Mcnemar's Test P-Value : < 2.2e-16       \n",
              "                                          \n",
              "            Sensitivity : 0.6354          \n",
              "            Specificity : 0.8508          \n",
              "         Pos Pred Value : 0.8099          \n",
              "         Neg Pred Value : 0.7000          \n",
              "             Prevalence : 0.5000          \n",
              "         Detection Rate : 0.3177          \n",
              "   Detection Prevalence : 0.3923          \n",
              "      Balanced Accuracy : 0.7431          \n",
              "                                          \n",
              "       'Positive' Class : si              \n",
              "                                          "
            ]
          },
          "metadata": {
            "tags": []
          }
        }
      ]
    },
    {
      "cell_type": "code",
      "metadata": {
        "id": "kYd1nIRXo40n",
        "colab_type": "code",
        "colab": {
          "base_uri": "https://localhost:8080/",
          "height": 466
        },
        "outputId": "8133b117-d125-4e4f-eca3-ec025ca1e147"
      },
      "source": [
        "predictions <- predict(model_gam, newdata= df_test)\n",
        "confusionMatrix(predictions, df_test$y)"
      ],
      "execution_count": null,
      "outputs": [
        {
          "output_type": "display_data",
          "data": {
            "text/plain": [
              "Confusion Matrix and Statistics\n",
              "\n",
              "          Reference\n",
              "Prediction   si   no\n",
              "        si  594 1149\n",
              "        no  334 6160\n",
              "                                          \n",
              "               Accuracy : 0.82            \n",
              "                 95% CI : (0.8115, 0.8282)\n",
              "    No Information Rate : 0.8873          \n",
              "    P-Value [Acc > NIR] : 1               \n",
              "                                          \n",
              "                  Kappa : 0.3491          \n",
              "                                          \n",
              " Mcnemar's Test P-Value : <2e-16          \n",
              "                                          \n",
              "            Sensitivity : 0.64009         \n",
              "            Specificity : 0.84280         \n",
              "         Pos Pred Value : 0.34079         \n",
              "         Neg Pred Value : 0.94857         \n",
              "             Prevalence : 0.11266         \n",
              "         Detection Rate : 0.07211         \n",
              "   Detection Prevalence : 0.21161         \n",
              "      Balanced Accuracy : 0.74144         \n",
              "                                          \n",
              "       'Positive' Class : si              \n",
              "                                          "
            ]
          },
          "metadata": {
            "tags": []
          }
        }
      ]
    },
    {
      "cell_type": "code",
      "metadata": {
        "id": "PDwXzEr88EkW",
        "colab_type": "code",
        "colab": {
          "base_uri": "https://localhost:8080/",
          "height": 436
        },
        "outputId": "ec8d172f-9b9c-4feb-efae-1bf03804e0d1"
      },
      "source": [
        "plot(model_gam )"
      ],
      "execution_count": null,
      "outputs": [
        {
          "output_type": "display_data",
          "data": {
            "image/png": "[encoded data removed]",
            "text/plain": [
              "plot without title"
            ]
          },
          "metadata": {
            "tags": [],
            "image/png": {
              "width": 420,
              "height": 420
            }
          }
        }
      ]
    },
    {
      "cell_type": "markdown",
      "metadata": {
        "id": "XlDeq7g7o8eo",
        "colab_type": "text"
      },
      "source": [
        "## Multivariate Adaptive Regression Splines (MARS)\n"
      ]
    },
    {
      "cell_type": "code",
      "metadata": {
        "id": "wx-k6D8eo6mi",
        "colab_type": "code",
        "colab": {
          "base_uri": "https://localhost:8080/",
          "height": 1000
        },
        "outputId": "97b5cc22-c6aa-42f9-b3ed-2cbab36a514e"
      },
      "source": [
        "set.seed(123)\n",
        "model_mars <- train(\n",
        "  y ~ ., \n",
        "  df_train_mod,\n",
        "  preProcess = preProc,\n",
        "  method = \"earth\",\n",
        "  glm = list(family = binomial),\n",
        "  trControl = myControl,\n",
        "  tuneGrid= expand.grid( .degree= 1:3, .nprune= c(15,20,25))\n",
        "  )\n",
        "model_mars"
      ],
      "execution_count": null,
      "outputs": [
        {
          "output_type": "stream",
          "text": [
            "Warning message in train.default(x, y, weights = w, ...):\n",
            "“The metric \"Accuracy\" was not in the result set. ROC will be used instead.”\n"
          ],
          "name": "stderr"
        },
        {
          "output_type": "stream",
          "text": [
            "+ Fold1: degree=1, nprune=25 \n",
            "- Fold1: degree=1, nprune=25 \n",
            "+ Fold1: degree=2, nprune=25 \n",
            "- Fold1: degree=2, nprune=25 \n",
            "+ Fold1: degree=3, nprune=25 \n",
            "- Fold1: degree=3, nprune=25 \n",
            "+ Fold2: degree=1, nprune=25 \n",
            "- Fold2: degree=1, nprune=25 \n",
            "+ Fold2: degree=2, nprune=25 \n",
            "- Fold2: degree=2, nprune=25 \n",
            "+ Fold2: degree=3, nprune=25 \n",
            "- Fold2: degree=3, nprune=25 \n",
            "+ Fold3: degree=1, nprune=25 \n",
            "- Fold3: degree=1, nprune=25 \n",
            "+ Fold3: degree=2, nprune=25 \n",
            "- Fold3: degree=2, nprune=25 \n",
            "+ Fold3: degree=3, nprune=25 \n",
            "- Fold3: degree=3, nprune=25 \n",
            "+ Fold4: degree=1, nprune=25 \n",
            "- Fold4: degree=1, nprune=25 \n",
            "+ Fold4: degree=2, nprune=25 \n",
            "- Fold4: degree=2, nprune=25 \n",
            "+ Fold4: degree=3, nprune=25 \n",
            "- Fold4: degree=3, nprune=25 \n",
            "+ Fold5: degree=1, nprune=25 \n",
            "- Fold5: degree=1, nprune=25 \n",
            "+ Fold5: degree=2, nprune=25 \n",
            "- Fold5: degree=2, nprune=25 \n",
            "+ Fold5: degree=3, nprune=25 \n",
            "- Fold5: degree=3, nprune=25 \n",
            "Aggregating results\n",
            "Selecting tuning parameters\n",
            "Fitting nprune = 25, degree = 3 on full training set\n"
          ],
          "name": "stdout"
        },
        {
          "output_type": "display_data",
          "data": {
            "text/plain": [
              "Multivariate Adaptive Regression Spline \n",
              "\n",
              "58478 samples\n",
              "   19 predictor\n",
              "    2 classes: 'si', 'no' \n",
              "\n",
              "Pre-processing: nearest neighbor imputation (49), centered (49), scaled (49) \n",
              "Resampling: Cross-Validated (5 fold) \n",
              "Summary of sample sizes: 46782, 46783, 46782, 46783, 46782 \n",
              "Resampling results across tuning parameters:\n",
              "\n",
              "  degree  nprune  ROC        Sens       Spec     \n",
              "  1       15      0.7979727  0.6240977  0.8621363\n",
              "  1       20      0.8009733  0.6345290  0.8533125\n",
              "  1       25      0.8009733  0.6345290  0.8533125\n",
              "  2       15      0.7977106  0.6382921  0.8536549\n",
              "  2       20      0.8010421  0.6440719  0.8499616\n",
              "  2       25      0.8038987  0.6433534  0.8498931\n",
              "  3       15      0.7990423  0.6323741  0.8569040\n",
              "  3       20      0.8027951  0.6448577  0.8487301\n",
              "  3       25      0.8061084  0.6472518  0.8484567\n",
              "\n",
              "ROC was used to select the optimal model using the largest value.\n",
              "The final values used for the model were nprune = 25 and degree = 3."
            ]
          },
          "metadata": {
            "tags": []
          }
        }
      ]
    },
    {
      "cell_type": "code",
      "metadata": {
        "id": "rSzQTuDkpCAi",
        "colab_type": "code",
        "colab": {
          "base_uri": "https://localhost:8080/",
          "height": 466
        },
        "outputId": "05f691e9-1479-4e30-fb60-1df496e153f0"
      },
      "source": [
        "predictions <- predict(model_mars, newdata= df_train_mod)\n",
        "confusionMatrix(predictions, df_train_mod$y)"
      ],
      "execution_count": null,
      "outputs": [
        {
          "output_type": "display_data",
          "data": {
            "text/plain": [
              "Confusion Matrix and Statistics\n",
              "\n",
              "          Reference\n",
              "Prediction    si    no\n",
              "        si 19194  4538\n",
              "        no 10045 24701\n",
              "                                          \n",
              "               Accuracy : 0.7506          \n",
              "                 95% CI : (0.7471, 0.7541)\n",
              "    No Information Rate : 0.5             \n",
              "    P-Value [Acc > NIR] : < 2.2e-16       \n",
              "                                          \n",
              "                  Kappa : 0.5012          \n",
              "                                          \n",
              " Mcnemar's Test P-Value : < 2.2e-16       \n",
              "                                          \n",
              "            Sensitivity : 0.6565          \n",
              "            Specificity : 0.8448          \n",
              "         Pos Pred Value : 0.8088          \n",
              "         Neg Pred Value : 0.7109          \n",
              "             Prevalence : 0.5000          \n",
              "         Detection Rate : 0.3282          \n",
              "   Detection Prevalence : 0.4058          \n",
              "      Balanced Accuracy : 0.7506          \n",
              "                                          \n",
              "       'Positive' Class : si              \n",
              "                                          "
            ]
          },
          "metadata": {
            "tags": []
          }
        }
      ]
    },
    {
      "cell_type": "code",
      "metadata": {
        "id": "mPDYXj70pCa4",
        "colab_type": "code",
        "colab": {
          "base_uri": "https://localhost:8080/",
          "height": 466
        },
        "outputId": "8c60e0f5-1ca3-4b84-ea2f-1b4c640b6f18"
      },
      "source": [
        "predictions <- predict(model_mars, newdata= df_test)\n",
        "confusionMatrix(predictions, df_test$y)"
      ],
      "execution_count": null,
      "outputs": [
        {
          "output_type": "display_data",
          "data": {
            "text/plain": [
              "Confusion Matrix and Statistics\n",
              "\n",
              "          Reference\n",
              "Prediction   si   no\n",
              "        si  612 1196\n",
              "        no  316 6113\n",
              "                                          \n",
              "               Accuracy : 0.8164          \n",
              "                 95% CI : (0.8079, 0.8247)\n",
              "    No Information Rate : 0.8873          \n",
              "    P-Value [Acc > NIR] : 1               \n",
              "                                          \n",
              "                  Kappa : 0.3507          \n",
              "                                          \n",
              " Mcnemar's Test P-Value : <2e-16          \n",
              "                                          \n",
              "            Sensitivity : 0.6595          \n",
              "            Specificity : 0.8364          \n",
              "         Pos Pred Value : 0.3385          \n",
              "         Neg Pred Value : 0.9508          \n",
              "             Prevalence : 0.1127          \n",
              "         Detection Rate : 0.0743          \n",
              "   Detection Prevalence : 0.2195          \n",
              "      Balanced Accuracy : 0.7479          \n",
              "                                          \n",
              "       'Positive' Class : si              \n",
              "                                          "
            ]
          },
          "metadata": {
            "tags": []
          }
        }
      ]
    },
    {
      "cell_type": "code",
      "metadata": {
        "id": "yhuVylPg3Tf7",
        "colab_type": "code",
        "colab": {
          "base_uri": "https://localhost:8080/",
          "height": 433
        },
        "outputId": "e36741ac-3ea0-4041-c9da-3fe242e8ad31"
      },
      "source": [
        "varImp(model_mars)\n"
      ],
      "execution_count": null,
      "outputs": [
        {
          "output_type": "display_data",
          "data": {
            "text/plain": [
              "earth variable importance\n",
              "\n",
              "  only 20 most important variables shown (out of 49)\n",
              "\n",
              "                    Overall\n",
              "euribor3m            100.00\n",
              "monthMay              56.97\n",
              "nr_employed           45.46\n",
              "pdays_binariaSi       37.71\n",
              "cons_price_idx        36.76\n",
              "contacttelephone      27.66\n",
              "defaultunknown        23.70\n",
              "previous              19.90\n",
              "age                   19.90\n",
              "campaign              16.81\n",
              "day_of_weekMie        15.33\n",
              "day_of_weekJue         0.00\n",
              "jobservices            0.00\n",
              "monthSep               0.00\n",
              "education4A_Bas        0.00\n",
              "monthAbr               0.00\n",
              "jobother               0.00\n",
              "poutcomenonexistent    0.00\n",
              "loanyes                0.00\n",
              "educationTecnico       0.00"
            ]
          },
          "metadata": {
            "tags": []
          }
        }
      ]
    },
    {
      "cell_type": "code",
      "metadata": {
        "id": "q0h2ssYw7R7m",
        "colab_type": "code",
        "colab": {
          "base_uri": "https://localhost:8080/",
          "height": 436
        },
        "outputId": "69df02a3-2613-4e17-be1c-9e6837ba484a"
      },
      "source": [
        "plot(model_mars)\n"
      ],
      "execution_count": null,
      "outputs": [
        {
          "output_type": "display_data",
          "data": {
            "image/png": "[encoded data removed]",
            "text/plain": [
              "plot without title"
            ]
          },
          "metadata": {
            "tags": [],
            "image/png": {
              "width": 420,
              "height": 420
            }
          }
        }
      ]
    }
  ]
}